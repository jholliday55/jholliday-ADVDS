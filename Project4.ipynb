{
  "nbformat": 4,
  "nbformat_minor": 0,
  "metadata": {
    "colab": {
      "name": "Project4.ipynb",
      "provenance": [],
      "authorship_tag": "ABX9TyOT5qMun//KxzozFNq536XU",
      "include_colab_link": true
    },
    "kernelspec": {
      "name": "python3",
      "display_name": "Python 3"
    },
    "language_info": {
      "name": "python"
    }
  },
  "cells": [
    {
      "cell_type": "markdown",
      "metadata": {
        "id": "view-in-github",
        "colab_type": "text"
      },
      "source": [
        "<a href=\"https://colab.research.google.com/github/jholliday55/jholliday-ADVDS/blob/main/Project4.ipynb\" target=\"_parent\"><img src=\"https://colab.research.google.com/assets/colab-badge.svg\" alt=\"Open In Colab\"/></a>"
      ]
    },
    {
      "cell_type": "markdown",
      "source": [
        "\n",
        "Author Name: John Holliday Assignment Number: Project 4 Date: 2/21/2021 Purpose: The purpose of this assignment is to look at the data and read from a CSV. The data contains information about an automobile company that is wondering what the current market conditions like. We perform analysis on the data first and cleanse the data. We also plot the correlation values on a heatmap. We then create pipelines for missing values, scaling, and encoding. After that we create pipelines for the following models; SVC(linear, poly, RBF) and decision tree (gini and entropy). After that we display the knowledge from a decision tree. We then plot the accuracy from before and after hyperoptimization."
      ],
      "metadata": {
        "id": "sDx_SPowocXD"
      }
    },
    {
      "cell_type": "code",
      "execution_count": 107,
      "metadata": {
        "colab": {
          "base_uri": "https://localhost:8080/"
        },
        "id": "nQAUnQp5UIo-",
        "outputId": "1ca509fe-3636-4225-9402-29a58e4fe98f"
      },
      "outputs": [
        {
          "output_type": "stream",
          "name": "stdout",
          "text": [
            "Drive already mounted at /content/gdrive; to attempt to forcibly remount, call drive.mount(\"/content/gdrive\", force_remount=True).\n"
          ]
        }
      ],
      "source": [
        "# mount google drive\n",
        "from google.colab import drive \n",
        "drive.mount('/content/gdrive')"
      ]
    },
    {
      "cell_type": "code",
      "source": [
        "# read csv from Google Drive and initlize imports\n",
        "import pandas as pd \n",
        "import numpy as np\n",
        "import matplotlib.pyplot as plt\n",
        "import seaborn as sns\n",
        "import numpy as np\n",
        "from sklearn.datasets import fetch_openml\n",
        "from sklearn.model_selection import train_test_split, cross_val_score, GridSearchCV\n",
        "\n",
        "df_train = pd.read_csv('gdrive/My Drive/Train.csv')\n",
        "\n",
        "df_test = pd.read_csv('gdrive/My Drive/Test.csv')"
      ],
      "metadata": {
        "id": "SqiLvBJiVM2v"
      },
      "execution_count": 108,
      "outputs": []
    },
    {
      "cell_type": "code",
      "source": [
        "# drop na values\n",
        "# df_train.dropna(axis=0, inplace=True)"
      ],
      "metadata": {
        "id": "_vo9selRWIYF"
      },
      "execution_count": 109,
      "outputs": []
    },
    {
      "cell_type": "code",
      "source": [
        "df_train.head()"
      ],
      "metadata": {
        "colab": {
          "base_uri": "https://localhost:8080/",
          "height": 204
        },
        "id": "BH2s09YQWQe9",
        "outputId": "b18b529e-51d0-4dfd-8bf5-162d4dfa289e"
      },
      "execution_count": 110,
      "outputs": [
        {
          "output_type": "execute_result",
          "data": {
            "text/html": [
              "\n",
              "  <div id=\"df-43497642-0f3b-4b41-805a-f42d66e67576\">\n",
              "    <div class=\"colab-df-container\">\n",
              "      <div>\n",
              "<style scoped>\n",
              "    .dataframe tbody tr th:only-of-type {\n",
              "        vertical-align: middle;\n",
              "    }\n",
              "\n",
              "    .dataframe tbody tr th {\n",
              "        vertical-align: top;\n",
              "    }\n",
              "\n",
              "    .dataframe thead th {\n",
              "        text-align: right;\n",
              "    }\n",
              "</style>\n",
              "<table border=\"1\" class=\"dataframe\">\n",
              "  <thead>\n",
              "    <tr style=\"text-align: right;\">\n",
              "      <th></th>\n",
              "      <th>ID</th>\n",
              "      <th>Gender</th>\n",
              "      <th>Ever_Married</th>\n",
              "      <th>Age</th>\n",
              "      <th>Graduated</th>\n",
              "      <th>Profession</th>\n",
              "      <th>Work_Experience</th>\n",
              "      <th>Spending_Score</th>\n",
              "      <th>Family_Size</th>\n",
              "      <th>Var_1</th>\n",
              "      <th>Segmentation</th>\n",
              "    </tr>\n",
              "  </thead>\n",
              "  <tbody>\n",
              "    <tr>\n",
              "      <th>0</th>\n",
              "      <td>462809</td>\n",
              "      <td>Male</td>\n",
              "      <td>No</td>\n",
              "      <td>22</td>\n",
              "      <td>No</td>\n",
              "      <td>Healthcare</td>\n",
              "      <td>1.0</td>\n",
              "      <td>Low</td>\n",
              "      <td>4.0</td>\n",
              "      <td>Cat_4</td>\n",
              "      <td>D</td>\n",
              "    </tr>\n",
              "    <tr>\n",
              "      <th>1</th>\n",
              "      <td>462643</td>\n",
              "      <td>Female</td>\n",
              "      <td>Yes</td>\n",
              "      <td>38</td>\n",
              "      <td>Yes</td>\n",
              "      <td>Engineer</td>\n",
              "      <td>NaN</td>\n",
              "      <td>Average</td>\n",
              "      <td>3.0</td>\n",
              "      <td>Cat_4</td>\n",
              "      <td>A</td>\n",
              "    </tr>\n",
              "    <tr>\n",
              "      <th>2</th>\n",
              "      <td>466315</td>\n",
              "      <td>Female</td>\n",
              "      <td>Yes</td>\n",
              "      <td>67</td>\n",
              "      <td>Yes</td>\n",
              "      <td>Engineer</td>\n",
              "      <td>1.0</td>\n",
              "      <td>Low</td>\n",
              "      <td>1.0</td>\n",
              "      <td>Cat_6</td>\n",
              "      <td>B</td>\n",
              "    </tr>\n",
              "    <tr>\n",
              "      <th>3</th>\n",
              "      <td>461735</td>\n",
              "      <td>Male</td>\n",
              "      <td>Yes</td>\n",
              "      <td>67</td>\n",
              "      <td>Yes</td>\n",
              "      <td>Lawyer</td>\n",
              "      <td>0.0</td>\n",
              "      <td>High</td>\n",
              "      <td>2.0</td>\n",
              "      <td>Cat_6</td>\n",
              "      <td>B</td>\n",
              "    </tr>\n",
              "    <tr>\n",
              "      <th>4</th>\n",
              "      <td>462669</td>\n",
              "      <td>Female</td>\n",
              "      <td>Yes</td>\n",
              "      <td>40</td>\n",
              "      <td>Yes</td>\n",
              "      <td>Entertainment</td>\n",
              "      <td>NaN</td>\n",
              "      <td>High</td>\n",
              "      <td>6.0</td>\n",
              "      <td>Cat_6</td>\n",
              "      <td>A</td>\n",
              "    </tr>\n",
              "  </tbody>\n",
              "</table>\n",
              "</div>\n",
              "      <button class=\"colab-df-convert\" onclick=\"convertToInteractive('df-43497642-0f3b-4b41-805a-f42d66e67576')\"\n",
              "              title=\"Convert this dataframe to an interactive table.\"\n",
              "              style=\"display:none;\">\n",
              "        \n",
              "  <svg xmlns=\"http://www.w3.org/2000/svg\" height=\"24px\"viewBox=\"0 0 24 24\"\n",
              "       width=\"24px\">\n",
              "    <path d=\"M0 0h24v24H0V0z\" fill=\"none\"/>\n",
              "    <path d=\"M18.56 5.44l.94 2.06.94-2.06 2.06-.94-2.06-.94-.94-2.06-.94 2.06-2.06.94zm-11 1L8.5 8.5l.94-2.06 2.06-.94-2.06-.94L8.5 2.5l-.94 2.06-2.06.94zm10 10l.94 2.06.94-2.06 2.06-.94-2.06-.94-.94-2.06-.94 2.06-2.06.94z\"/><path d=\"M17.41 7.96l-1.37-1.37c-.4-.4-.92-.59-1.43-.59-.52 0-1.04.2-1.43.59L10.3 9.45l-7.72 7.72c-.78.78-.78 2.05 0 2.83L4 21.41c.39.39.9.59 1.41.59.51 0 1.02-.2 1.41-.59l7.78-7.78 2.81-2.81c.8-.78.8-2.07 0-2.86zM5.41 20L4 18.59l7.72-7.72 1.47 1.35L5.41 20z\"/>\n",
              "  </svg>\n",
              "      </button>\n",
              "      \n",
              "  <style>\n",
              "    .colab-df-container {\n",
              "      display:flex;\n",
              "      flex-wrap:wrap;\n",
              "      gap: 12px;\n",
              "    }\n",
              "\n",
              "    .colab-df-convert {\n",
              "      background-color: #E8F0FE;\n",
              "      border: none;\n",
              "      border-radius: 50%;\n",
              "      cursor: pointer;\n",
              "      display: none;\n",
              "      fill: #1967D2;\n",
              "      height: 32px;\n",
              "      padding: 0 0 0 0;\n",
              "      width: 32px;\n",
              "    }\n",
              "\n",
              "    .colab-df-convert:hover {\n",
              "      background-color: #E2EBFA;\n",
              "      box-shadow: 0px 1px 2px rgba(60, 64, 67, 0.3), 0px 1px 3px 1px rgba(60, 64, 67, 0.15);\n",
              "      fill: #174EA6;\n",
              "    }\n",
              "\n",
              "    [theme=dark] .colab-df-convert {\n",
              "      background-color: #3B4455;\n",
              "      fill: #D2E3FC;\n",
              "    }\n",
              "\n",
              "    [theme=dark] .colab-df-convert:hover {\n",
              "      background-color: #434B5C;\n",
              "      box-shadow: 0px 1px 3px 1px rgba(0, 0, 0, 0.15);\n",
              "      filter: drop-shadow(0px 1px 2px rgba(0, 0, 0, 0.3));\n",
              "      fill: #FFFFFF;\n",
              "    }\n",
              "  </style>\n",
              "\n",
              "      <script>\n",
              "        const buttonEl =\n",
              "          document.querySelector('#df-43497642-0f3b-4b41-805a-f42d66e67576 button.colab-df-convert');\n",
              "        buttonEl.style.display =\n",
              "          google.colab.kernel.accessAllowed ? 'block' : 'none';\n",
              "\n",
              "        async function convertToInteractive(key) {\n",
              "          const element = document.querySelector('#df-43497642-0f3b-4b41-805a-f42d66e67576');\n",
              "          const dataTable =\n",
              "            await google.colab.kernel.invokeFunction('convertToInteractive',\n",
              "                                                     [key], {});\n",
              "          if (!dataTable) return;\n",
              "\n",
              "          const docLinkHtml = 'Like what you see? Visit the ' +\n",
              "            '<a target=\"_blank\" href=https://colab.research.google.com/notebooks/data_table.ipynb>data table notebook</a>'\n",
              "            + ' to learn more about interactive tables.';\n",
              "          element.innerHTML = '';\n",
              "          dataTable['output_type'] = 'display_data';\n",
              "          await google.colab.output.renderOutput(dataTable, element);\n",
              "          const docLink = document.createElement('div');\n",
              "          docLink.innerHTML = docLinkHtml;\n",
              "          element.appendChild(docLink);\n",
              "        }\n",
              "      </script>\n",
              "    </div>\n",
              "  </div>\n",
              "  "
            ],
            "text/plain": [
              "       ID  Gender Ever_Married  ...  Family_Size  Var_1 Segmentation\n",
              "0  462809    Male           No  ...          4.0  Cat_4            D\n",
              "1  462643  Female          Yes  ...          3.0  Cat_4            A\n",
              "2  466315  Female          Yes  ...          1.0  Cat_6            B\n",
              "3  461735    Male          Yes  ...          2.0  Cat_6            B\n",
              "4  462669  Female          Yes  ...          6.0  Cat_6            A\n",
              "\n",
              "[5 rows x 11 columns]"
            ]
          },
          "metadata": {},
          "execution_count": 110
        }
      ]
    },
    {
      "cell_type": "code",
      "source": [
        "# correlation heatmap\n",
        "plt.figure(figsize=(10,10))\n",
        "sns.heatmap(df_train.corr(),annot=True,fmt='.1f')\n",
        "plt.show()"
      ],
      "metadata": {
        "colab": {
          "base_uri": "https://localhost:8080/",
          "height": 596
        },
        "id": "wd2AA6rWVntm",
        "outputId": "d5bf0063-3703-40fa-fd4f-5ef651f60d34"
      },
      "execution_count": 111,
      "outputs": [
        {
          "output_type": "display_data",
          "data": {
            "image/png": "[encoded data removed]",
            "text/plain": [
              "<Figure size 720x720 with 2 Axes>"
            ]
          },
          "metadata": {
            "needs_background": "light"
          }
        }
      ]
    },
    {
      "cell_type": "code",
      "source": [
        "df_train.isnull().sum()"
      ],
      "metadata": {
        "colab": {
          "base_uri": "https://localhost:8080/"
        },
        "id": "C1dOoe_lXEU-",
        "outputId": "d564c77a-0b3c-4a03-c9be-bcc7cf54dc6a"
      },
      "execution_count": 112,
      "outputs": [
        {
          "output_type": "execute_result",
          "data": {
            "text/plain": [
              "ID                   0\n",
              "Gender               0\n",
              "Ever_Married       140\n",
              "Age                  0\n",
              "Graduated           78\n",
              "Profession         124\n",
              "Work_Experience    829\n",
              "Spending_Score       0\n",
              "Family_Size        335\n",
              "Var_1               76\n",
              "Segmentation         0\n",
              "dtype: int64"
            ]
          },
          "metadata": {},
          "execution_count": 112
        }
      ]
    },
    {
      "cell_type": "code",
      "source": [
        "df_train.dropna(axis=0, inplace=True)"
      ],
      "metadata": {
        "id": "UiJkzeDGdyOu"
      },
      "execution_count": 113,
      "outputs": []
    },
    {
      "cell_type": "code",
      "source": [
        "df_train.dtypes"
      ],
      "metadata": {
        "colab": {
          "base_uri": "https://localhost:8080/"
        },
        "id": "MMDxhbiVYLH1",
        "outputId": "e58c8320-63b6-4926-f087-8278fb0ebffe"
      },
      "execution_count": 114,
      "outputs": [
        {
          "output_type": "execute_result",
          "data": {
            "text/plain": [
              "ID                   int64\n",
              "Gender              object\n",
              "Ever_Married        object\n",
              "Age                  int64\n",
              "Graduated           object\n",
              "Profession          object\n",
              "Work_Experience    float64\n",
              "Spending_Score      object\n",
              "Family_Size        float64\n",
              "Var_1               object\n",
              "Segmentation        object\n",
              "dtype: object"
            ]
          },
          "metadata": {},
          "execution_count": 114
        }
      ]
    },
    {
      "cell_type": "code",
      "source": [
        "from sklearn.compose import ColumnTransformer\n",
        "from sklearn.pipeline import Pipeline, make_pipeline\n",
        "from sklearn.impute import SimpleImputer, KNNImputer\n",
        "from sklearn.preprocessing import OneHotEncoder, StandardScaler, OrdinalEncoder, MinMaxScaler\n",
        "\n",
        "# create pipeline for onject types\n",
        "object_cols = ['Gender', 'Ever_Married', 'Graduated', 'Profession', 'Spending_Score', 'Var_1', 'Segmentation']\n",
        "\n",
        "object_transformer = Pipeline(steps = [\n",
        "                                      # use most frequent imputer, can use mean, median, etc.\n",
        "                                       ('imputer', SimpleImputer(strategy='most_frequent')),\n",
        "                                      #  assigned int values\n",
        "                                       ('ordinal', OrdinalEncoder())\n",
        "])\n",
        "                                       \n",
        "\n",
        "# pipeline that is for numeric attributes                                       \n",
        "number_cols=['ID', 'Age', 'Work_Experience', 'Family_Size']\n",
        "number_transformer = Pipeline(steps=[\n",
        "    # performs k nearest neighbor\n",
        "    ('imputer', KNNImputer(n_neighbors=5)),\n",
        "    # makes mean equal to zero and scales the data\n",
        "    ('scaler', StandardScaler())\n",
        "])                                     \n",
        "\n",
        "# performs column transofrmation\n",
        "preprocessor = ColumnTransformer(\n",
        "    transformers=[\n",
        "        ('num', number_transformer, number_cols),\n",
        "        ('obj', object_transformer, object_cols)\n",
        "    ])"
      ],
      "metadata": {
        "id": "vJCHKz2rYU2E"
      },
      "execution_count": 115,
      "outputs": []
    },
    {
      "cell_type": "code",
      "source": [
        "df_train.describe()"
      ],
      "metadata": {
        "colab": {
          "base_uri": "https://localhost:8080/",
          "height": 297
        },
        "id": "j6whIaMnZdfm",
        "outputId": "32f7a225-add0-46a2-e28c-7f257a2f2c76"
      },
      "execution_count": 116,
      "outputs": [
        {
          "output_type": "execute_result",
          "data": {
            "text/html": [
              "\n",
              "  <div id=\"df-834d06f1-5bdd-4fa1-8d1a-4a36453920ee\">\n",
              "    <div class=\"colab-df-container\">\n",
              "      <div>\n",
              "<style scoped>\n",
              "    .dataframe tbody tr th:only-of-type {\n",
              "        vertical-align: middle;\n",
              "    }\n",
              "\n",
              "    .dataframe tbody tr th {\n",
              "        vertical-align: top;\n",
              "    }\n",
              "\n",
              "    .dataframe thead th {\n",
              "        text-align: right;\n",
              "    }\n",
              "</style>\n",
              "<table border=\"1\" class=\"dataframe\">\n",
              "  <thead>\n",
              "    <tr style=\"text-align: right;\">\n",
              "      <th></th>\n",
              "      <th>ID</th>\n",
              "      <th>Age</th>\n",
              "      <th>Work_Experience</th>\n",
              "      <th>Family_Size</th>\n",
              "    </tr>\n",
              "  </thead>\n",
              "  <tbody>\n",
              "    <tr>\n",
              "      <th>count</th>\n",
              "      <td>6665.00000</td>\n",
              "      <td>6665.000000</td>\n",
              "      <td>6665.000000</td>\n",
              "      <td>6665.000000</td>\n",
              "    </tr>\n",
              "    <tr>\n",
              "      <th>mean</th>\n",
              "      <td>463519.84096</td>\n",
              "      <td>43.536084</td>\n",
              "      <td>2.629107</td>\n",
              "      <td>2.841110</td>\n",
              "    </tr>\n",
              "    <tr>\n",
              "      <th>std</th>\n",
              "      <td>2566.43174</td>\n",
              "      <td>16.524054</td>\n",
              "      <td>3.405365</td>\n",
              "      <td>1.524743</td>\n",
              "    </tr>\n",
              "    <tr>\n",
              "      <th>min</th>\n",
              "      <td>458982.00000</td>\n",
              "      <td>18.000000</td>\n",
              "      <td>0.000000</td>\n",
              "      <td>1.000000</td>\n",
              "    </tr>\n",
              "    <tr>\n",
              "      <th>25%</th>\n",
              "      <td>461349.00000</td>\n",
              "      <td>31.000000</td>\n",
              "      <td>0.000000</td>\n",
              "      <td>2.000000</td>\n",
              "    </tr>\n",
              "    <tr>\n",
              "      <th>50%</th>\n",
              "      <td>463575.00000</td>\n",
              "      <td>41.000000</td>\n",
              "      <td>1.000000</td>\n",
              "      <td>2.000000</td>\n",
              "    </tr>\n",
              "    <tr>\n",
              "      <th>75%</th>\n",
              "      <td>465741.00000</td>\n",
              "      <td>53.000000</td>\n",
              "      <td>4.000000</td>\n",
              "      <td>4.000000</td>\n",
              "    </tr>\n",
              "    <tr>\n",
              "      <th>max</th>\n",
              "      <td>467974.00000</td>\n",
              "      <td>89.000000</td>\n",
              "      <td>14.000000</td>\n",
              "      <td>9.000000</td>\n",
              "    </tr>\n",
              "  </tbody>\n",
              "</table>\n",
              "</div>\n",
              "      <button class=\"colab-df-convert\" onclick=\"convertToInteractive('df-834d06f1-5bdd-4fa1-8d1a-4a36453920ee')\"\n",
              "              title=\"Convert this dataframe to an interactive table.\"\n",
              "              style=\"display:none;\">\n",
              "        \n",
              "  <svg xmlns=\"http://www.w3.org/2000/svg\" height=\"24px\"viewBox=\"0 0 24 24\"\n",
              "       width=\"24px\">\n",
              "    <path d=\"M0 0h24v24H0V0z\" fill=\"none\"/>\n",
              "    <path d=\"M18.56 5.44l.94 2.06.94-2.06 2.06-.94-2.06-.94-.94-2.06-.94 2.06-2.06.94zm-11 1L8.5 8.5l.94-2.06 2.06-.94-2.06-.94L8.5 2.5l-.94 2.06-2.06.94zm10 10l.94 2.06.94-2.06 2.06-.94-2.06-.94-.94-2.06-.94 2.06-2.06.94z\"/><path d=\"M17.41 7.96l-1.37-1.37c-.4-.4-.92-.59-1.43-.59-.52 0-1.04.2-1.43.59L10.3 9.45l-7.72 7.72c-.78.78-.78 2.05 0 2.83L4 21.41c.39.39.9.59 1.41.59.51 0 1.02-.2 1.41-.59l7.78-7.78 2.81-2.81c.8-.78.8-2.07 0-2.86zM5.41 20L4 18.59l7.72-7.72 1.47 1.35L5.41 20z\"/>\n",
              "  </svg>\n",
              "      </button>\n",
              "      \n",
              "  <style>\n",
              "    .colab-df-container {\n",
              "      display:flex;\n",
              "      flex-wrap:wrap;\n",
              "      gap: 12px;\n",
              "    }\n",
              "\n",
              "    .colab-df-convert {\n",
              "      background-color: #E8F0FE;\n",
              "      border: none;\n",
              "      border-radius: 50%;\n",
              "      cursor: pointer;\n",
              "      display: none;\n",
              "      fill: #1967D2;\n",
              "      height: 32px;\n",
              "      padding: 0 0 0 0;\n",
              "      width: 32px;\n",
              "    }\n",
              "\n",
              "    .colab-df-convert:hover {\n",
              "      background-color: #E2EBFA;\n",
              "      box-shadow: 0px 1px 2px rgba(60, 64, 67, 0.3), 0px 1px 3px 1px rgba(60, 64, 67, 0.15);\n",
              "      fill: #174EA6;\n",
              "    }\n",
              "\n",
              "    [theme=dark] .colab-df-convert {\n",
              "      background-color: #3B4455;\n",
              "      fill: #D2E3FC;\n",
              "    }\n",
              "\n",
              "    [theme=dark] .colab-df-convert:hover {\n",
              "      background-color: #434B5C;\n",
              "      box-shadow: 0px 1px 3px 1px rgba(0, 0, 0, 0.15);\n",
              "      filter: drop-shadow(0px 1px 2px rgba(0, 0, 0, 0.3));\n",
              "      fill: #FFFFFF;\n",
              "    }\n",
              "  </style>\n",
              "\n",
              "      <script>\n",
              "        const buttonEl =\n",
              "          document.querySelector('#df-834d06f1-5bdd-4fa1-8d1a-4a36453920ee button.colab-df-convert');\n",
              "        buttonEl.style.display =\n",
              "          google.colab.kernel.accessAllowed ? 'block' : 'none';\n",
              "\n",
              "        async function convertToInteractive(key) {\n",
              "          const element = document.querySelector('#df-834d06f1-5bdd-4fa1-8d1a-4a36453920ee');\n",
              "          const dataTable =\n",
              "            await google.colab.kernel.invokeFunction('convertToInteractive',\n",
              "                                                     [key], {});\n",
              "          if (!dataTable) return;\n",
              "\n",
              "          const docLinkHtml = 'Like what you see? Visit the ' +\n",
              "            '<a target=\"_blank\" href=https://colab.research.google.com/notebooks/data_table.ipynb>data table notebook</a>'\n",
              "            + ' to learn more about interactive tables.';\n",
              "          element.innerHTML = '';\n",
              "          dataTable['output_type'] = 'display_data';\n",
              "          await google.colab.output.renderOutput(dataTable, element);\n",
              "          const docLink = document.createElement('div');\n",
              "          docLink.innerHTML = docLinkHtml;\n",
              "          element.appendChild(docLink);\n",
              "        }\n",
              "      </script>\n",
              "    </div>\n",
              "  </div>\n",
              "  "
            ],
            "text/plain": [
              "                 ID          Age  Work_Experience  Family_Size\n",
              "count    6665.00000  6665.000000      6665.000000  6665.000000\n",
              "mean   463519.84096    43.536084         2.629107     2.841110\n",
              "std      2566.43174    16.524054         3.405365     1.524743\n",
              "min    458982.00000    18.000000         0.000000     1.000000\n",
              "25%    461349.00000    31.000000         0.000000     2.000000\n",
              "50%    463575.00000    41.000000         1.000000     2.000000\n",
              "75%    465741.00000    53.000000         4.000000     4.000000\n",
              "max    467974.00000    89.000000        14.000000     9.000000"
            ]
          },
          "metadata": {},
          "execution_count": 116
        }
      ]
    },
    {
      "cell_type": "code",
      "source": [
        "from sklearn.linear_model import LogisticRegression\n",
        "from sklearn.tree import DecisionTreeClassifier\n",
        "from sklearn.ensemble import RandomForestClassifier\n",
        "from sklearn.svm import SVC\n",
        "from sklearn.preprocessing import StandardScaler\n",
        "from sklearn.preprocessing import  LabelEncoder\n",
        "\n",
        "number_fold = 10\n",
        "\n",
        "cat_columns = ['Gender', 'Ever_Married', 'Graduated', 'Profession', 'Spending_Score', 'Var_1']\n",
        "df_data = pd.get_dummies(df_train,columns=cat_columns)\n",
        "\n",
        "le = LabelEncoder()\n",
        "df_data['Segmentation'] = le.fit_transform(df_data['Segmentation'])\n",
        "x = df_data.drop(['Segmentation','ID'],axis = 1)\n",
        "y = df_data['Segmentation']\n",
        "\n",
        "# linear kernel classification \n",
        "linear_svc_clf = Pipeline([('scaler', StandardScaler()), ('svc', SVC(kernel='linear'))])\n",
        "linear_svc_clf.fit(x, y)\n",
        "linear_svc_clf_score = cross_val_score(linear_svc_clf, x, y, cv=number_fold, scoring=\"accuracy\").mean()\n",
        "\n",
        "# RBF kernel classification\n",
        "rbf_svc_clf = Pipeline([('scaler', StandardScaler()), ('svc', SVC(kernel='rbf'))])\n",
        "rbf_svc_clf_score = cross_val_score(rbf_svc_clf, x, y, cv=number_fold, scoring=\"accuracy\").mean()\n",
        "rbf_svc_clf.fit(x, y)\n",
        "\n",
        "# Poly kernel classification\n",
        "poly_svc_clf = Pipeline([('scaler', StandardScaler()), ('svc', SVC(kernel='poly'))])\n",
        "poly_svc_clf_score = cross_val_score(poly_svc_clf, x, y, cv=number_fold, scoring=\"accuracy\").mean()\n",
        "poly_svc_clf.fit(x, y)\n",
        "\n",
        "# gini decision tree\n",
        "gini_dt_clf = Pipeline([('scaler', StandardScaler()), ('classifier', DecisionTreeClassifier(criterion='gini'))])\n",
        "gini_dt_clf.fit(x, y)\n",
        "gini_dt_score = cross_val_score(gini_dt_clf, x, y, cv=number_fold, scoring=\"accuracy\").mean()\n",
        "\n",
        "# entopy decision tree\n",
        "entopy_dt_clf = Pipeline([('scaler', StandardScaler()), ('classifier', DecisionTreeClassifier(criterion='entropy'))])\n",
        "entopy_dt_clf.fit(x, y)\n",
        "entopy_dt_clf_score = cross_val_score(entopy_dt_clf, x, y, cv=number_fold, scoring=\"accuracy\").mean()"
      ],
      "metadata": {
        "id": "2Pm4pTgPf-ry"
      },
      "execution_count": 117,
      "outputs": []
    },
    {
      "cell_type": "code",
      "source": [
        "# labels for the plot\n",
        "labels = ['SVC (Linear)', 'SVC (RBF)', 'SVC (Poly)', 'DT (Gini)', 'DT (Entropy)']\n",
        "# scores calultaed from each classification \n",
        "training_scores = [linear_svc_clf_score, rbf_svc_clf_score, poly_svc_clf_score, gini_dt_score, entopy_dt_clf_score]\n",
        "\n",
        "X = np.arange(len(labels))  \n",
        "width = 0.35  \n",
        "\n",
        "fig, ax = plt.subplots()\n",
        "rects1 = ax.bar(X - width/2, training_scores, width, label='CV=10', color='green')\n",
        "\n",
        "ax.set_ylabel('Accuracy')\n",
        "ax.set_xticks(X)\n",
        "ax.set_ylim(0,1)\n",
        "ax.set_xticklabels(labels)\n",
        "ax.legend(bbox_to_anchor = (1.3, 1.0), loc='upper right')\n",
        "\n",
        "# plots each models accuracy\n",
        "plt.title('Model')\n",
        "plt.show()"
      ],
      "metadata": {
        "id": "iqHauIcEjMly",
        "colab": {
          "base_uri": "https://localhost:8080/",
          "height": 281
        },
        "outputId": "d475f51c-d159-4344-faed-e4d60d6371ee"
      },
      "execution_count": 118,
      "outputs": [
        {
          "output_type": "display_data",
          "data": {
            "image/png": "[encoded data removed]",
            "text/plain": [
              "<Figure size 432x288 with 1 Axes>"
            ]
          },
          "metadata": {
            "needs_background": "light"
          }
        }
      ]
    },
    {
      "cell_type": "code",
      "source": [
        "from matplotlib import pyplot\n",
        "from sklearn.tree import export_text, export_graphviz\n",
        "import graphviz\n",
        "\n",
        "# refit the gini dt model \n",
        "gini_dt_clf['classifier'].fit(preprocessor.fit_transform(x), y)\n",
        "\n",
        "\n",
        "# creates and prints the decision tree as a series of logical rules\n",
        "text_representation = export_text(gini_dt_clf['classifier'],\n",
        "                                  feature_names=['ID', 'Segmentation', 'Gender', 'Ever_married', 'Age', 'Graduated', 'Profession', 'Work_Experience', 'Spending_Score', 'Family_Size', 'Var_1',],\n",
        "                                  max_depth=2)\n",
        "print(text_representation)\n",
        "\n",
        "\n",
        "# creates drawing of decision tree\n",
        "dot_data = export_graphviz(gini_dt_clf['classifier'],\n",
        "                                  max_depth=2,\n",
        "                                  feature_names=['ID', 'Gender', 'Ever_married', 'Age', 'Graduated', 'Profession', 'Work_Experience', 'Spending_Score', 'Family_Size', 'Var_1', 'Segmentation'],\n",
        "                                  filled=True)\n",
        "\n",
        "graph = graphviz.Source(dot_data, format=\"png\") \n",
        "graph"
      ],
      "metadata": {
        "id": "yVvy7G_GlFTw",
        "colab": {
          "base_uri": "https://localhost:8080/",
          "height": 683
        },
        "outputId": "f8063fe2-5c9c-4e66-faa4-6088dcab970b"
      },
      "execution_count": 119,
      "outputs": [
        {
          "output_type": "stream",
          "name": "stdout",
          "text": [
            "|--- Var_1 <= 2.50\n",
            "|   |--- Var_1 <= 1.50\n",
            "|   |   |--- Var_1 <= 0.50\n",
            "|   |   |   |--- class: A\n",
            "|   |   |--- Var_1 >  0.50\n",
            "|   |   |   |--- class: B\n",
            "|   |--- Var_1 >  1.50\n",
            "|   |   |--- class: C\n",
            "|--- Var_1 >  2.50\n",
            "|   |--- class: D\n",
            "\n"
          ]
        },
        {
          "output_type": "execute_result",
          "data": {
            "text/plain": [
              "<graphviz.files.Source at 0x7fdf3edfcfd0>"
            ],
            "image/svg+xml": "<?xml version=\"1.0\" encoding=\"UTF-8\" standalone=\"no\"?>\n<!DOCTYPE svg PUBLIC \"-//W3C//DTD SVG 1.1//EN\"\n \"http://www.w3.org/Graphics/SVG/1.1/DTD/svg11.dtd\">\n<!-- Generated by graphviz version 2.40.1 (20161225.0304)\n -->\n<!-- Title: Tree Pages: 1 -->\n<svg width=\"467pt\" height=\"356pt\"\n viewBox=\"0.00 0.00 466.50 356.00\" xmlns=\"http://www.w3.org/2000/svg\" xmlns:xlink=\"http://www.w3.org/1999/xlink\">\n<g id=\"graph0\" class=\"graph\" transform=\"scale(1 1) rotate(0) translate(4 352)\">\n<title>Tree</title>\n<polygon fill=\"#ffffff\" stroke=\"transparent\" points=\"-4,4 -4,-352 462.5,-352 462.5,4 -4,4\"/>\n<!-- 0 -->\n<g id=\"node1\" class=\"node\">\n<title>0</title>\n<polygon fill=\"#fffeff\" stroke=\"#000000\" points=\"397,-348 167,-348 167,-280 397,-280 397,-348\"/>\n<text text-anchor=\"middle\" x=\"282\" y=\"-332.8\" font-family=\"Helvetica,sans-Serif\" font-size=\"14.00\" fill=\"#000000\">Segmentation &lt;= 2.5</text>\n<text text-anchor=\"middle\" x=\"282\" y=\"-317.8\" font-family=\"Helvetica,sans-Serif\" font-size=\"14.00\" fill=\"#000000\">gini = 0.749</text>\n<text text-anchor=\"middle\" x=\"282\" y=\"-302.8\" font-family=\"Helvetica,sans-Serif\" font-size=\"14.00\" fill=\"#000000\">samples = 6665</text>\n<text text-anchor=\"middle\" x=\"282\" y=\"-287.8\" font-family=\"Helvetica,sans-Serif\" font-size=\"14.00\" fill=\"#000000\">value = [1616, 1572, 1720, 1757]</text>\n</g>\n<!-- 1 -->\n<g id=\"node2\" class=\"node\">\n<title>1</title>\n<polygon fill=\"#f9fcfe\" stroke=\"#000000\" points=\"285.5,-244 80.5,-244 80.5,-176 285.5,-176 285.5,-244\"/>\n<text text-anchor=\"middle\" x=\"183\" y=\"-228.8\" font-family=\"Helvetica,sans-Serif\" font-size=\"14.00\" fill=\"#000000\">Segmentation &lt;= 1.5</text>\n<text text-anchor=\"middle\" x=\"183\" y=\"-213.8\" font-family=\"Helvetica,sans-Serif\" font-size=\"14.00\" fill=\"#000000\">gini = 0.666</text>\n<text text-anchor=\"middle\" x=\"183\" y=\"-198.8\" font-family=\"Helvetica,sans-Serif\" font-size=\"14.00\" fill=\"#000000\">samples = 4908</text>\n<text text-anchor=\"middle\" x=\"183\" y=\"-183.8\" font-family=\"Helvetica,sans-Serif\" font-size=\"14.00\" fill=\"#000000\">value = [1616, 1572, 1720, 0]</text>\n</g>\n<!-- 0&#45;&gt;1 -->\n<g id=\"edge1\" class=\"edge\">\n<title>0&#45;&gt;1</title>\n<path fill=\"none\" stroke=\"#000000\" d=\"M249.5837,-279.9465C240.9514,-270.8782 231.5289,-260.9799 222.5605,-251.5585\"/>\n<polygon fill=\"#000000\" stroke=\"#000000\" points=\"224.919,-248.9599 215.4891,-244.13 219.8489,-253.7863 224.919,-248.9599\"/>\n<text text-anchor=\"middle\" x=\"214.8736\" y=\"-265.4224\" font-family=\"Helvetica,sans-Serif\" font-size=\"14.00\" fill=\"#000000\">True</text>\n</g>\n<!-- 6 -->\n<g id=\"node7\" class=\"node\">\n<title>6</title>\n<polygon fill=\"#d739e5\" stroke=\"#000000\" points=\"458.5,-236.5 303.5,-236.5 303.5,-183.5 458.5,-183.5 458.5,-236.5\"/>\n<text text-anchor=\"middle\" x=\"381\" y=\"-221.3\" font-family=\"Helvetica,sans-Serif\" font-size=\"14.00\" fill=\"#000000\">gini = 0.0</text>\n<text text-anchor=\"middle\" x=\"381\" y=\"-206.3\" font-family=\"Helvetica,sans-Serif\" font-size=\"14.00\" fill=\"#000000\">samples = 1757</text>\n<text text-anchor=\"middle\" x=\"381\" y=\"-191.3\" font-family=\"Helvetica,sans-Serif\" font-size=\"14.00\" fill=\"#000000\">value = [0, 0, 0, 1757]</text>\n</g>\n<!-- 0&#45;&gt;6 -->\n<g id=\"edge6\" class=\"edge\">\n<title>0&#45;&gt;6</title>\n<path fill=\"none\" stroke=\"#000000\" d=\"M314.4163,-279.9465C325.4259,-268.3809 337.7207,-255.4652 348.7196,-243.9107\"/>\n<polygon fill=\"#000000\" stroke=\"#000000\" points=\"351.3741,-246.1984 355.7339,-236.5422 346.304,-241.372 351.3741,-246.1984\"/>\n<text text-anchor=\"middle\" x=\"356.3495\" y=\"-257.8346\" font-family=\"Helvetica,sans-Serif\" font-size=\"14.00\" fill=\"#000000\">False</text>\n</g>\n<!-- 2 -->\n<g id=\"node3\" class=\"node\">\n<title>2</title>\n<polygon fill=\"#fefcfa\" stroke=\"#000000\" points=\"180,-140 0,-140 0,-72 180,-72 180,-140\"/>\n<text text-anchor=\"middle\" x=\"90\" y=\"-124.8\" font-family=\"Helvetica,sans-Serif\" font-size=\"14.00\" fill=\"#000000\">Segmentation &lt;= 0.5</text>\n<text text-anchor=\"middle\" x=\"90\" y=\"-109.8\" font-family=\"Helvetica,sans-Serif\" font-size=\"14.00\" fill=\"#000000\">gini = 0.5</text>\n<text text-anchor=\"middle\" x=\"90\" y=\"-94.8\" font-family=\"Helvetica,sans-Serif\" font-size=\"14.00\" fill=\"#000000\">samples = 3188</text>\n<text text-anchor=\"middle\" x=\"90\" y=\"-79.8\" font-family=\"Helvetica,sans-Serif\" font-size=\"14.00\" fill=\"#000000\">value = [1616, 1572, 0, 0]</text>\n</g>\n<!-- 1&#45;&gt;2 -->\n<g id=\"edge2\" class=\"edge\">\n<title>1&#45;&gt;2</title>\n<path fill=\"none\" stroke=\"#000000\" d=\"M152.5483,-175.9465C144.5194,-166.968 135.763,-157.1758 127.4133,-147.8385\"/>\n<polygon fill=\"#000000\" stroke=\"#000000\" points=\"129.795,-145.2512 120.5201,-140.13 124.577,-149.9174 129.795,-145.2512\"/>\n</g>\n<!-- 5 -->\n<g id=\"node6\" class=\"node\">\n<title>5</title>\n<polygon fill=\"#399de5\" stroke=\"#000000\" points=\"353.5,-132.5 198.5,-132.5 198.5,-79.5 353.5,-79.5 353.5,-132.5\"/>\n<text text-anchor=\"middle\" x=\"276\" y=\"-117.3\" font-family=\"Helvetica,sans-Serif\" font-size=\"14.00\" fill=\"#000000\">gini = 0.0</text>\n<text text-anchor=\"middle\" x=\"276\" y=\"-102.3\" font-family=\"Helvetica,sans-Serif\" font-size=\"14.00\" fill=\"#000000\">samples = 1720</text>\n<text text-anchor=\"middle\" x=\"276\" y=\"-87.3\" font-family=\"Helvetica,sans-Serif\" font-size=\"14.00\" fill=\"#000000\">value = [0, 0, 1720, 0]</text>\n</g>\n<!-- 1&#45;&gt;5 -->\n<g id=\"edge5\" class=\"edge\">\n<title>1&#45;&gt;5</title>\n<path fill=\"none\" stroke=\"#000000\" d=\"M213.4517,-175.9465C223.6955,-164.491 235.1238,-151.711 245.3805,-140.2412\"/>\n<polygon fill=\"#000000\" stroke=\"#000000\" points=\"248.2083,-142.3295 252.2652,-132.5422 242.9903,-137.6634 248.2083,-142.3295\"/>\n</g>\n<!-- 3 -->\n<g id=\"node4\" class=\"node\">\n<title>3</title>\n<polygon fill=\"#c0c0c0\" stroke=\"#000000\" points=\"81,-36 27,-36 27,0 81,0 81,-36\"/>\n<text text-anchor=\"middle\" x=\"54\" y=\"-14.3\" font-family=\"Helvetica,sans-Serif\" font-size=\"14.00\" fill=\"#000000\">(...)</text>\n</g>\n<!-- 2&#45;&gt;3 -->\n<g id=\"edge3\" class=\"edge\">\n<title>2&#45;&gt;3</title>\n<path fill=\"none\" stroke=\"#000000\" d=\"M76.0815,-71.9769C72.4977,-63.2167 68.6862,-53.8995 65.2564,-45.5157\"/>\n<polygon fill=\"#000000\" stroke=\"#000000\" points=\"68.468,-44.1222 61.4422,-36.192 61.9891,-46.7727 68.468,-44.1222\"/>\n</g>\n<!-- 4 -->\n<g id=\"node5\" class=\"node\">\n<title>4</title>\n<polygon fill=\"#c0c0c0\" stroke=\"#000000\" points=\"153,-36 99,-36 99,0 153,0 153,-36\"/>\n<text text-anchor=\"middle\" x=\"126\" y=\"-14.3\" font-family=\"Helvetica,sans-Serif\" font-size=\"14.00\" fill=\"#000000\">(...)</text>\n</g>\n<!-- 2&#45;&gt;4 -->\n<g id=\"edge4\" class=\"edge\">\n<title>2&#45;&gt;4</title>\n<path fill=\"none\" stroke=\"#000000\" d=\"M103.9185,-71.9769C107.5023,-63.2167 111.3138,-53.8995 114.7436,-45.5157\"/>\n<polygon fill=\"#000000\" stroke=\"#000000\" points=\"118.0109,-46.7727 118.5578,-36.192 111.532,-44.1222 118.0109,-46.7727\"/>\n</g>\n</g>\n</svg>\n"
          },
          "metadata": {},
          "execution_count": 119
        }
      ]
    },
    {
      "cell_type": "code",
      "source": [
        "# Next we use GridSearchCV to find best hyperparameter inputs for decision tree model\n",
        "\n",
        "# first param that takes gini and entropy decision trees\n",
        "param_1 = { 'criterion':['gini','entropy'],   \n",
        "              'max_depth': np.arange(3, 15)}     \n",
        "   \n",
        "    \n",
        "# test all values using gridsearch\n",
        "grid_search1 = GridSearchCV(entopy_dt_clf['classifier'], \n",
        "                           param_1, \n",
        "                           cv=3)\n",
        "    \n",
        "# call grid_search1 and fit the model\n",
        "grid_search1.fit(preprocessor.fit_transform(x), y)\n",
        "\n",
        "print(\"After hyperparameter optimization, best accuracy is %.2f \\n\" % (grid_search1.best_score_))\n",
        "\n",
        "print(\"The best hyperparamters for decision tree model\", grid_search1.best_params_)"
      ],
      "metadata": {
        "id": "yeasrONooNcO",
        "colab": {
          "base_uri": "https://localhost:8080/"
        },
        "outputId": "cbf65378-42c9-4b24-fa77-5fccdb3d8f9e"
      },
      "execution_count": 120,
      "outputs": [
        {
          "output_type": "stream",
          "name": "stdout",
          "text": [
            "After hyperparameter optimization, best accuracy is 1.00 \n",
            "\n",
            "The best hyperparamters for decision tree model {'criterion': 'gini', 'max_depth': 3}\n"
          ]
        }
      ]
    },
    {
      "cell_type": "code",
      "source": [
        "# next we use gridsearch to find best hyperparameter values for SVC models\n",
        "param_grid2 = {'kernel':['poly', 'linear', 'RBF'], \n",
        "              'gamma':['scale','auto'],      \n",
        "              'degree': np.arange(4,8),      \n",
        "              'C': np.arange(1,10)}        \n",
        "   \n",
        "    \n",
        "# test all the values using gridsearch\n",
        "grid_search2 = GridSearchCV(rbf_svc_clf['classifier'], \n",
        "                           param_grid2, \n",
        "                           cv=3)\n",
        "    \n",
        "# refit the model\n",
        "grid_search2.fit(preprocessor.fit_transform(x), y)\n",
        "\n",
        "print(\"After hyperparameter optimization, best accuracy is %.2f \\n\" % (grid_search2.best_score_))\n",
        "\n",
        "print(\"The best hyperparamters for decision tree model\", grid_search2.best_params_)"
      ],
      "metadata": {
        "id": "pMpXrMJupaS2",
        "colab": {
          "base_uri": "https://localhost:8080/",
          "height": 426
        },
        "outputId": "9b5040a7-74d8-4ca0-99e9-53f8aa324b57"
      },
      "execution_count": 121,
      "outputs": [
        {
          "output_type": "error",
          "ename": "KeyError",
          "evalue": "ignored",
          "traceback": [
            "\u001b[0;31m---------------------------------------------------------------------------\u001b[0m",
            "\u001b[0;31mTypeError\u001b[0m                                 Traceback (most recent call last)",
            "\u001b[0;32m/usr/local/lib/python3.7/dist-packages/sklearn/pipeline.py\u001b[0m in \u001b[0;36m__getitem__\u001b[0;34m(self, ind)\u001b[0m\n\u001b[1;32m    264\u001b[0m         \u001b[0;32mtry\u001b[0m\u001b[0;34m:\u001b[0m\u001b[0;34m\u001b[0m\u001b[0;34m\u001b[0m\u001b[0m\n\u001b[0;32m--> 265\u001b[0;31m             \u001b[0mname\u001b[0m\u001b[0;34m,\u001b[0m \u001b[0mest\u001b[0m \u001b[0;34m=\u001b[0m \u001b[0mself\u001b[0m\u001b[0;34m.\u001b[0m\u001b[0msteps\u001b[0m\u001b[0;34m[\u001b[0m\u001b[0mind\u001b[0m\u001b[0;34m]\u001b[0m\u001b[0;34m\u001b[0m\u001b[0;34m\u001b[0m\u001b[0m\n\u001b[0m\u001b[1;32m    266\u001b[0m         \u001b[0;32mexcept\u001b[0m \u001b[0mTypeError\u001b[0m\u001b[0;34m:\u001b[0m\u001b[0;34m\u001b[0m\u001b[0;34m\u001b[0m\u001b[0m\n",
            "\u001b[0;31mTypeError\u001b[0m: list indices must be integers or slices, not str",
            "\nDuring handling of the above exception, another exception occurred:\n",
            "\u001b[0;31mKeyError\u001b[0m                                  Traceback (most recent call last)",
            "\u001b[0;32m<ipython-input-121-663af098b472>\u001b[0m in \u001b[0;36m<module>\u001b[0;34m()\u001b[0m\n\u001b[1;32m      7\u001b[0m \u001b[0;34m\u001b[0m\u001b[0m\n\u001b[1;32m      8\u001b[0m \u001b[0;31m# test all the values using gridsearch\u001b[0m\u001b[0;34m\u001b[0m\u001b[0;34m\u001b[0m\u001b[0;34m\u001b[0m\u001b[0m\n\u001b[0;32m----> 9\u001b[0;31m grid_search2 = GridSearchCV(rbf_svc_clf['classifier'], \n\u001b[0m\u001b[1;32m     10\u001b[0m                            \u001b[0mparam_grid2\u001b[0m\u001b[0;34m,\u001b[0m\u001b[0;34m\u001b[0m\u001b[0;34m\u001b[0m\u001b[0m\n\u001b[1;32m     11\u001b[0m                            cv=3)\n",
            "\u001b[0;32m/usr/local/lib/python3.7/dist-packages/sklearn/pipeline.py\u001b[0m in \u001b[0;36m__getitem__\u001b[0;34m(self, ind)\u001b[0m\n\u001b[1;32m    266\u001b[0m         \u001b[0;32mexcept\u001b[0m \u001b[0mTypeError\u001b[0m\u001b[0;34m:\u001b[0m\u001b[0;34m\u001b[0m\u001b[0;34m\u001b[0m\u001b[0m\n\u001b[1;32m    267\u001b[0m             \u001b[0;31m# Not an int, try get step by name\u001b[0m\u001b[0;34m\u001b[0m\u001b[0;34m\u001b[0m\u001b[0;34m\u001b[0m\u001b[0m\n\u001b[0;32m--> 268\u001b[0;31m             \u001b[0;32mreturn\u001b[0m \u001b[0mself\u001b[0m\u001b[0;34m.\u001b[0m\u001b[0mnamed_steps\u001b[0m\u001b[0;34m[\u001b[0m\u001b[0mind\u001b[0m\u001b[0;34m]\u001b[0m\u001b[0;34m\u001b[0m\u001b[0;34m\u001b[0m\u001b[0m\n\u001b[0m\u001b[1;32m    269\u001b[0m         \u001b[0;32mreturn\u001b[0m \u001b[0mest\u001b[0m\u001b[0;34m\u001b[0m\u001b[0;34m\u001b[0m\u001b[0m\n\u001b[1;32m    270\u001b[0m \u001b[0;34m\u001b[0m\u001b[0m\n",
            "\u001b[0;31mKeyError\u001b[0m: 'classifier'"
          ]
        }
      ]
    },
    {
      "cell_type": "code",
      "source": [
        "# plot results of grid search, before and after optimization\n",
        "labels = ['DT (Gini)', 'SVC (Linear)']\n",
        "\n",
        "# before and after scores\n",
        "before_optimization_scores = [gini_dt_score, linear_svc_clf_score]\n",
        "after_optimization_scores = [grid_search1.best_score_, grid_search2.best_score_]\n",
        "\n",
        "X = np.arange(len(labels))  \n",
        "width = 0.25               \n",
        "\n",
        "fig, ax = plt.subplots()\n",
        "rects1 = ax.bar(X - width/2, before_optimization_scores, width, label='Before Optimization', color='blue')\n",
        "rects2 = ax.bar(X + width/2, after_optimization_scores, width, label='After Optimization', color='black')\n",
        "\n",
        "ax.set_ylabel('Accuracy of Model')\n",
        "ax.set_xticks(X)\n",
        "ax.set_ylim(0,1.0)\n",
        "ax.set_xticklabels(labels)\n",
        "ax.legend(bbox_to_anchor = (1.45, 1.0), loc='upper right')\n",
        "\n",
        "plt.title('Optimization Hyperparamater Results')\n",
        "plt.show()"
      ],
      "metadata": {
        "id": "jNv-6zsLrOdP"
      },
      "execution_count": null,
      "outputs": []
    },
    {
      "cell_type": "markdown",
      "source": [
        "Summary\n",
        "\n",
        "We first started by anlyzing the data that we were given. We then plot a correlation heat map to see the correlation between the numeric values. After that we need to clean and prepare the data. We use different pipelines on the attributes to clean and prepare the data. After that we create pipelines to run different classification models on the data. Next, we convert the decision trees in order to see them as a text and a graph. Finally, we perform grid search in order to optimize a few hyperparameters. The results here show that the models are very accurate as each model was close to 100% before hyperparamater optimization. After Gridsearch we see that the results are all at 100%.\n"
      ],
      "metadata": {
        "id": "4q_wHoAAkt6G"
      }
    }
  ]
}